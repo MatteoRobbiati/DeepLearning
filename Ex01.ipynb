{
 "cells": [
  {
   "cell_type": "markdown",
   "id": "642a533f",
   "metadata": {},
   "source": [
    "## Esercitazione uno\n",
    "### Deep Learning\n",
    "\n",
    "Introduzione al `python3`:\n",
    "- introduzione generale alle strutture dati e alle librerie;\n",
    "- introduzione alle classi (interessante).\n",
    "- fare attenzione alle variabili: jupyter notebook salva tutto in memoria, si ha sempre il rischio che si cerchi di usare in due modi la stessa variabile;\n",
    "- JN limitante: non puo' essere condiviso;\n",
    "\n",
    "### 1.1 - preparazione dell'ambiente _DeepLearning_"
   ]
  },
  {
   "cell_type": "code",
   "execution_count": 25,
   "id": "f860102c",
   "metadata": {},
   "outputs": [],
   "source": [
    "import numpy as np\n",
    "import matplotlib.pyplot as plt\n",
    "import seaborn as sns\n",
    "import os\n",
    "from IPython.display import clear_output"
   ]
  },
  {
   "cell_type": "code",
   "execution_count": 3,
   "id": "05d91bc2",
   "metadata": {},
   "outputs": [],
   "source": [
    "sns.set_theme(font_scale=1.7, style='whitegrid')"
   ]
  },
  {
   "cell_type": "markdown",
   "id": "ba4d2665",
   "metadata": {},
   "source": [
    "### 1.2 - Hello World!"
   ]
  },
  {
   "cell_type": "code",
   "execution_count": 4,
   "id": "c0f31bec",
   "metadata": {},
   "outputs": [
    {
     "name": "stdout",
     "output_type": "stream",
     "text": [
      "Hello World!\n"
     ]
    }
   ],
   "source": [
    "print(\"Hello World!\")"
   ]
  },
  {
   "cell_type": "code",
   "execution_count": 23,
   "id": "e0f1f4b4",
   "metadata": {},
   "outputs": [
    {
     "name": "stdout",
     "output_type": "stream",
     "text": [
      "Type an integer: 5\n",
      "Type a float: 6.5\n",
      "Type a string: hello\n",
      "56.5hello\n"
     ]
    }
   ],
   "source": [
    "a = input(\"Type an integer: \")\n",
    "b = input(\"Type a float: \")\n",
    "c = input(\"Type a string: \")\n",
    "print(f\"{a}{b}{c}\")"
   ]
  },
  {
   "cell_type": "markdown",
   "id": "b1528b61",
   "metadata": {},
   "source": [
    "### 1.3 - Translating from C++"
   ]
  },
  {
   "cell_type": "code",
   "execution_count": 54,
   "id": "7f080d6c",
   "metadata": {},
   "outputs": [],
   "source": [
    "def mymain(a,b):\n",
    "    \n",
    "    target = 48\n",
    "    for i in range(3,target,1):\n",
    "        fib = a + b\n",
    "        clear_output()                #comment if u want all sequence\n",
    "        print(\"F(\", i, \") = \", fib) \n",
    "        a = b\n",
    "        b = fib"
   ]
  },
  {
   "cell_type": "code",
   "execution_count": 55,
   "id": "0cd1c1d5",
   "metadata": {},
   "outputs": [
    {
     "name": "stdout",
     "output_type": "stream",
     "text": [
      "F( 47 ) =  2971215073\n"
     ]
    }
   ],
   "source": [
    "# execute this cell for reading Fibonacci's sequence\n",
    "mymain(1,1)"
   ]
  },
  {
   "cell_type": "markdown",
   "id": "22ac1c33",
   "metadata": {},
   "source": [
    "In `C++` il limite di precisione delle variabili `int` impedisce di ottenere i risultati corretti dalla 47-esima iterazione della sequenza di Fibonacci in avanti."
   ]
  },
  {
   "cell_type": "markdown",
   "id": "f1100b65",
   "metadata": {},
   "source": [
    "### 1.4 Python basics"
   ]
  },
  {
   "cell_type": "code",
   "execution_count": 72,
   "id": "c756faab",
   "metadata": {},
   "outputs": [
    {
     "name": "stdout",
     "output_type": "stream",
     "text": [
      "Lista e interi: [0, 1, 2, 3, 4, 5, 6, 7, 8, 9, 10, 11, 12, 13, 14, 15]\n",
      "Lista e float: [3.2, 1.111, 3.1414]\n"
     ]
    }
   ],
   "source": [
    "#lista e valori interi\n",
    "v = []\n",
    "for i in range(16):\n",
    "    v.append(i)\n",
    "    \n",
    "#lista e float    \n",
    "f = []\n",
    "f.extend([3.2, 1.111, 3.1414])\n",
    "\n",
    "print('Lista e interi:', v)\n",
    "print('Lista e float:', f)"
   ]
  },
  {
   "cell_type": "code",
   "execution_count": 65,
   "id": "e58f5dd5",
   "metadata": {},
   "outputs": [
    {
     "data": {
      "text/plain": [
       "{'name': 'neuralnet', 'loss': 10, 'weights': [10, 25, 5]}"
      ]
     },
     "execution_count": 65,
     "metadata": {},
     "output_type": "execute_result"
    }
   ],
   "source": [
    "dic = {\"name\": \"neuralnet\", \"loss\":0.12, \"weights\":[10,25,5]}\n",
    "dic.get(\"weights\")\n",
    "\n",
    "dic[\"loss\"]=10\n",
    "\n",
    "dic"
   ]
  },
  {
   "cell_type": "code",
   "execution_count": 68,
   "id": "955eb131",
   "metadata": {},
   "outputs": [
    {
     "name": "stdout",
     "output_type": "stream",
     "text": [
      "Media ottenuta:  4.857142857142857\n"
     ]
    },
    {
     "data": {
      "text/plain": [
       "4.857142857142857"
      ]
     },
     "execution_count": 68,
     "metadata": {},
     "output_type": "execute_result"
    }
   ],
   "source": [
    "mylist = [2,6,3,8,9,11,-5]\n",
    "\n",
    "mean = 0\n",
    "\n",
    "for i in range(len(mylist)):\n",
    "    mean += mylist[i]\n",
    "    if(i==len(mylist)-1):\n",
    "        mean/=len(mylist)\n",
    "        print(\"Media ottenuta: \", mean)"
   ]
  },
  {
   "cell_type": "markdown",
   "id": "53d072e4",
   "metadata": {},
   "source": [
    "Il ciclo `for` visto e' poco efficiente perche' scritto in pyhton."
   ]
  },
  {
   "cell_type": "code",
   "execution_count": 82,
   "id": "f5a7b2e3",
   "metadata": {},
   "outputs": [
    {
     "data": {
      "text/plain": [
       "[1, 2, 4, 8, 16, 32, 64, 128, 256, 512]"
      ]
     },
     "execution_count": 82,
     "metadata": {},
     "output_type": "execute_result"
    }
   ],
   "source": [
    "l = [2 ** n for n in range(10)]\n",
    "l"
   ]
  },
  {
   "cell_type": "markdown",
   "id": "39403516",
   "metadata": {},
   "source": [
    "### 1.5 Functions"
   ]
  },
  {
   "cell_type": "code",
   "execution_count": 79,
   "id": "41ca64d9",
   "metadata": {},
   "outputs": [],
   "source": [
    "def mean_on_list(myl):\n",
    "    mysum = 0\n",
    "    for i in range(len(myl)):\n",
    "        mysum += myl[i]\n",
    "    return mysum/len(myl)"
   ]
  },
  {
   "cell_type": "code",
   "execution_count": 80,
   "id": "0b4b3ecb",
   "metadata": {},
   "outputs": [
    {
     "data": {
      "text/plain": [
       "4.857142857142857"
      ]
     },
     "execution_count": 80,
     "metadata": {},
     "output_type": "execute_result"
    }
   ],
   "source": [
    "mean_on_list(mylist)"
   ]
  },
  {
   "cell_type": "code",
   "execution_count": 86,
   "id": "c373143d",
   "metadata": {},
   "outputs": [],
   "source": [
    "def factorial(x):\n",
    "    if(x==0):\n",
    "        return 1\n",
    "    else:\n",
    "        return x*factorial(x-1)"
   ]
  },
  {
   "cell_type": "markdown",
   "id": "37855633",
   "metadata": {},
   "source": [
    "### 1.6 Class 1"
   ]
  },
  {
   "cell_type": "code",
   "execution_count": 125,
   "id": "4cf64bba",
   "metadata": {},
   "outputs": [],
   "source": [
    "class Variable:\n",
    "    def __init__(self, name):\n",
    "        self.name = name\n",
    "        \n",
    "    def sample(self, size):\n",
    "        raise NotImplementedError()\n",
    "        \n",
    "class Normal:\n",
    "    def sample(N, mu, sigma):\n",
    "        s = np.random.normal(mu, sigma, N)\n",
    "        return s\n",
    "    \n",
    "class Normal_prof:\n",
    "    def __init__(self,name):\n",
    "        super().__init__(name)\n",
    "        self.mu    = 0\n",
    "        self.sigma = 1\n",
    "        \n",
    "    def sample(self, size):\n",
    "        samples = []\n",
    "        for _ in range(size):      #mi serve il ciclo ma non un iteratore --> posso usare _\n",
    "            s = np.random.normal(self.mu, self.sigma)\n",
    "            sample.append(s)\n",
    "        return sample"
   ]
  },
  {
   "cell_type": "code",
   "execution_count": 143,
   "id": "8ba85186",
   "metadata": {},
   "outputs": [
    {
     "data": {
      "image/png": "[encoded data removed]",
      "text/plain": [
       "<Figure size 864x432 with 1 Axes>"
      ]
     },
     "metadata": {},
     "output_type": "display_data"
    }
   ],
   "source": [
    "nsample = Normal.sample(2000, 0, 1)\n",
    "\n",
    "plt.figure(figsize=(12,6))\n",
    "plt.title('Campione gaussiano generato dalla classe Normal')\n",
    "plt.hist(nsample, color='black', alpha=0.5, bins=20, label='il mio campione')\n",
    "plt.xlabel('x')\n",
    "plt.ylabel('# realizzazioni')\n",
    "plt.show()"
   ]
  },
  {
   "cell_type": "markdown",
   "id": "b58f6b07",
   "metadata": {},
   "source": [
    "### 1.7 - Class 2"
   ]
  },
  {
   "cell_type": "code",
   "execution_count": 152,
   "id": "215756be",
   "metadata": {},
   "outputs": [],
   "source": [
    "class Polynomial:\n",
    "    \n",
    "    def __init__(self, deg):\n",
    "        self.deg  = deg\n",
    "        self._pars = [0.0]*(deg+1)\n",
    "        \n",
    "    def set_parameters(self, parameters):\n",
    "        print('Hai deciso di cambiare i parametri. I vecchi parametri erano', self._pars)\n",
    "        self._pars = parameters\n",
    "        print('I nuovi parametri sono', self._pars)\n",
    "        \n",
    "    def get_parameters(self):\n",
    "        return self._pars\n",
    "    \n",
    "    def execute(self, x):\n",
    "        y = 0\n",
    "        for i in range(self.deg):\n",
    "            y += self._pars[i]*x**i\n",
    "        return y\n",
    "    \n",
    "    def __call__(self, x):\n",
    "        return self.execute(x)\n",
    "    \n",
    "    @property\n",
    "    def parameters(self):\n",
    "        return self._parameters(self, p)\n",
    "    \n",
    "    @parameters.setter\n",
    "    def parameters(sel)"
   ]
  },
  {
   "cell_type": "code",
   "execution_count": 151,
   "id": "9518c21f",
   "metadata": {},
   "outputs": [],
   "source": [
    "P1 = Polynomial(1)"
   ]
  },
  {
   "cell_type": "code",
   "execution_count": 153,
   "id": "696d4409",
   "metadata": {},
   "outputs": [
    {
     "name": "stdout",
     "output_type": "stream",
     "text": [
      "Hai deciso di cambiare i parametri. I vecchi parametri erano [0.0, 0.0]\n",
      "I nuovi parametri sono [3, 1]\n",
      "Hai deciso di cambiare i parametri. I vecchi parametri erano [3, 1]\n",
      "I nuovi parametri sono [-0.5, 2]\n"
     ]
    },
    {
     "data": {
      "image/png": "[encoded data removed]",
      "text/plain": [
       "<Figure size 432x288 with 1 Axes>"
      ]
     },
     "metadata": {},
     "output_type": "display_data"
    }
   ],
   "source": [
    "P1.set_parameters([3,1])\n",
    "\n",
    "X = np.linspace(0,10,100)\n",
    "Y = P1.execute(X)\n",
    "\n",
    "plt.plot(X, Y)\n",
    "\n",
    "P1.set_parameters([-0.5,2])\n",
    "\n",
    "plt.plot(x, P1.execute(x))\n",
    "plt.show()"
   ]
  },
  {
   "cell_type": "code",
   "execution_count": null,
   "id": "28700ac6",
   "metadata": {},
   "outputs": [],
   "source": []
  },
  {
   "cell_type": "code",
   "execution_count": null,
   "id": "ca6abb65",
   "metadata": {},
   "outputs": [],
   "source": []
  }
 ],
 "metadata": {
  "kernelspec": {
   "display_name": "Python 3 (ipykernel)",
   "language": "python",
   "name": "python3"
  },
  "language_info": {
   "codemirror_mode": {
    "name": "ipython",
    "version": 3
   },
   "file_extension": ".py",
   "mimetype": "text/x-python",
   "name": "python",
   "nbconvert_exporter": "python",
   "pygments_lexer": "ipython3",
   "version": "3.9.7"
  }
 },
 "nbformat": 4,
 "nbformat_minor": 5
}
