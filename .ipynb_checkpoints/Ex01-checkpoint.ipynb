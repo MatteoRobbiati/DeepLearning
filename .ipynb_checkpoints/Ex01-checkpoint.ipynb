{
 "cells": [
  {
   "cell_type": "markdown",
   "metadata": {},
   "source": [
    "## Esercitazione uno\n",
    "### Deep Learning\n",
    "\n",
    "Introduzione al `python3`:\n",
    "- introduzione generale alle strutture dati e alle librerie;\n",
    "- introduzione alle classi (interessante).\n",
    "- fare attenzione alle variabili: jupyter notebook salva tutto in memoria, si ha sempre il rischio che si cerchi di usare in due modi la stessa variabile;\n",
    "- JN limitante: non puo' essere condiviso;\n",
    "\n",
    "### 1.1 - preparazione dell'ambiente _DeepLearning_"
   ]
  },
  {
   "cell_type": "code",
   "execution_count": 117,
   "metadata": {},
   "outputs": [],
   "source": [
    "import numpy as np\n",
    "import matplotlib.pyplot as plt\n",
    "import pandas as pd\n",
    "import seaborn as sns\n",
    "import os\n",
    "from IPython.display import clear_output\n",
    "from numba import jit"
   ]
  },
  {
   "cell_type": "code",
   "execution_count": 2,
   "metadata": {},
   "outputs": [],
   "source": [
    "sns.set_theme(font_scale=1.7, style='whitegrid')"
   ]
  },
  {
   "cell_type": "markdown",
   "metadata": {},
   "source": [
    "### 1.2 - Hello World!"
   ]
  },
  {
   "cell_type": "code",
   "execution_count": 3,
   "metadata": {},
   "outputs": [
    {
     "name": "stdout",
     "output_type": "stream",
     "text": [
      "Hello World!\n"
     ]
    }
   ],
   "source": [
    "print(\"Hello World!\")"
   ]
  },
  {
   "cell_type": "code",
   "execution_count": 4,
   "metadata": {},
   "outputs": [
    {
     "name": "stdout",
     "output_type": "stream",
     "text": [
      "Type an integer: 2\n",
      "Type a float: 2.3\n",
      "Type a string: ciao\n",
      "22.3ciao\n"
     ]
    }
   ],
   "source": [
    "a = input(\"Type an integer: \")\n",
    "b = input(\"Type a float: \")\n",
    "c = input(\"Type a string: \")\n",
    "print(f\"{a}{b}{c}\")"
   ]
  },
  {
   "cell_type": "markdown",
   "metadata": {},
   "source": [
    "### 1.3 - Translating from C++"
   ]
  },
  {
   "cell_type": "code",
   "execution_count": 5,
   "metadata": {},
   "outputs": [],
   "source": [
    "def mymain(a,b):\n",
    "    \n",
    "    target = 48\n",
    "    for i in range(3,target,1):\n",
    "        fib = a + b\n",
    "        clear_output()                #comment if u want all sequence\n",
    "        print(\"F(\", i, \") = \", fib) \n",
    "        a = b\n",
    "        b = fib"
   ]
  },
  {
   "cell_type": "code",
   "execution_count": 6,
   "metadata": {},
   "outputs": [
    {
     "name": "stdout",
     "output_type": "stream",
     "text": [
      "F( 47 ) =  2971215073\n"
     ]
    }
   ],
   "source": [
    "# execute this cell for reading Fibonacci's sequence\n",
    "mymain(1,1)"
   ]
  },
  {
   "cell_type": "markdown",
   "metadata": {},
   "source": [
    "In `C++` il limite di precisione delle variabili `int` impedisce di ottenere i risultati corretti dalla 47-esima iterazione della sequenza di Fibonacci in avanti."
   ]
  },
  {
   "cell_type": "markdown",
   "metadata": {},
   "source": [
    "### 1.4 Python basics"
   ]
  },
  {
   "cell_type": "code",
   "execution_count": 7,
   "metadata": {},
   "outputs": [
    {
     "name": "stdout",
     "output_type": "stream",
     "text": [
      "Lista e interi: [0, 1, 2, 3, 4, 5, 6, 7, 8, 9, 10, 11, 12, 13, 14, 15]\n",
      "Lista e float: [3.2, 1.111, 3.1414]\n"
     ]
    }
   ],
   "source": [
    "#lista e valori interi\n",
    "v = []\n",
    "for i in range(16):\n",
    "    v.append(i)\n",
    "    \n",
    "#lista e float    \n",
    "f = []\n",
    "f.extend([3.2, 1.111, 3.1414])\n",
    "\n",
    "print('Lista e interi:', v)\n",
    "print('Lista e float:', f)"
   ]
  },
  {
   "cell_type": "code",
   "execution_count": 8,
   "metadata": {},
   "outputs": [
    {
     "data": {
      "text/plain": [
       "{'name': 'neuralnet', 'loss': 10, 'weights': [10, 25, 5]}"
      ]
     },
     "execution_count": 8,
     "metadata": {},
     "output_type": "execute_result"
    }
   ],
   "source": [
    "dic = {\"name\": \"neuralnet\", \"loss\":0.12, \"weights\":[10,25,5]}\n",
    "dic.get(\"weights\")\n",
    "\n",
    "dic[\"loss\"]=10\n",
    "\n",
    "dic"
   ]
  },
  {
   "cell_type": "code",
   "execution_count": 9,
   "metadata": {},
   "outputs": [
    {
     "name": "stdout",
     "output_type": "stream",
     "text": [
      "Media ottenuta:  4.857142857142857\n"
     ]
    }
   ],
   "source": [
    "mylist = [2,6,3,8,9,11,-5]\n",
    "\n",
    "mean = 0\n",
    "\n",
    "for i in range(len(mylist)):\n",
    "    mean += mylist[i]\n",
    "    if(i==len(mylist)-1):\n",
    "        mean/=len(mylist)\n",
    "        print(\"Media ottenuta: \", mean)"
   ]
  },
  {
   "cell_type": "markdown",
   "metadata": {},
   "source": [
    "Il ciclo `for` visto e' poco efficiente perche' scritto in pyhton."
   ]
  },
  {
   "cell_type": "code",
   "execution_count": 10,
   "metadata": {},
   "outputs": [
    {
     "data": {
      "text/plain": [
       "[1, 2, 4, 8, 16, 32, 64, 128, 256, 512]"
      ]
     },
     "execution_count": 10,
     "metadata": {},
     "output_type": "execute_result"
    }
   ],
   "source": [
    "l = [2 ** n for n in range(10)]\n",
    "l"
   ]
  },
  {
   "cell_type": "markdown",
   "metadata": {},
   "source": [
    "### 1.5 Functions"
   ]
  },
  {
   "cell_type": "code",
   "execution_count": 11,
   "metadata": {},
   "outputs": [],
   "source": [
    "def mean_on_list(myl):\n",
    "    mysum = 0\n",
    "    for i in range(len(myl)):\n",
    "        mysum += myl[i]\n",
    "    return mysum/len(myl)"
   ]
  },
  {
   "cell_type": "code",
   "execution_count": 12,
   "metadata": {},
   "outputs": [
    {
     "data": {
      "text/plain": [
       "4.857142857142857"
      ]
     },
     "execution_count": 12,
     "metadata": {},
     "output_type": "execute_result"
    }
   ],
   "source": [
    "mean_on_list(mylist)"
   ]
  },
  {
   "cell_type": "code",
   "execution_count": 13,
   "metadata": {},
   "outputs": [],
   "source": [
    "def factorial(x):\n",
    "    if(x==0):\n",
    "        return 1\n",
    "    else:\n",
    "        return x*factorial(x-1)"
   ]
  },
  {
   "cell_type": "markdown",
   "metadata": {},
   "source": [
    "### 1.6 Class 1"
   ]
  },
  {
   "cell_type": "code",
   "execution_count": 14,
   "metadata": {},
   "outputs": [],
   "source": [
    "class Variable:\n",
    "    def __init__(self, name):\n",
    "        self.name = name\n",
    "        \n",
    "    def sample(self, size):\n",
    "        raise NotImplementedError()\n",
    "        \n",
    "class Normal:\n",
    "    def sample(N, mu, sigma):\n",
    "        s = np.random.normal(mu, sigma, N)\n",
    "        return s\n",
    "    \n",
    "class Normal_prof:\n",
    "    def __init__(self,name):\n",
    "        super().__init__(name)\n",
    "        self.mu    = 0\n",
    "        self.sigma = 1\n",
    "        \n",
    "    def sample(self, size):\n",
    "        samples = []\n",
    "        for _ in range(size):      #mi serve il ciclo ma non un iteratore --> posso usare _\n",
    "            s = np.random.normal(self.mu, self.sigma)\n",
    "            sample.append(s)\n",
    "        return sample"
   ]
  },
  {
   "cell_type": "code",
   "execution_count": 15,
   "metadata": {},
   "outputs": [
    {
     "data": {
      "image/png": "[encoded data removed]",
      "text/plain": [
       "<Figure size 864x432 with 1 Axes>"
      ]
     },
     "metadata": {},
     "output_type": "display_data"
    }
   ],
   "source": [
    "nsample = Normal.sample(2000, 0, 1)\n",
    "\n",
    "plt.figure(figsize=(12,6))\n",
    "plt.title('Campione gaussiano generato dalla classe Normal')\n",
    "plt.hist(nsample, color='black', alpha=0.5, bins=20, label='il mio campione')\n",
    "plt.xlabel('x')\n",
    "plt.ylabel('# realizzazioni')\n",
    "plt.show()"
   ]
  },
  {
   "cell_type": "markdown",
   "metadata": {},
   "source": [
    "### 1.7 - Class 2"
   ]
  },
  {
   "cell_type": "code",
   "execution_count": 52,
   "metadata": {},
   "outputs": [],
   "source": [
    "class Polynomial:\n",
    "    \n",
    "    def __init__(self, deg):\n",
    "        self.deg  = deg\n",
    "        self._pars = [0.0]*(deg+1)\n",
    "        \n",
    "    def set_parameters(self, parameters):\n",
    "        print('Hai deciso di cambiare i parametri. I vecchi parametri erano', self._pars)\n",
    "        self._pars = parameters\n",
    "        print('I nuovi parametri sono', self._pars)\n",
    "        \n",
    "    def get_parameters(self):\n",
    "        return self._pars\n",
    "    \n",
    "    def show_poly(self):\n",
    "        for i in range(len(self._pars)):\n",
    "            print(self._pars[i], \"x^{\", i, \"}\")\n",
    "        return\n",
    "    \n",
    "    def execute(self, x):\n",
    "        y = 0.0\n",
    "        for i in range(self.deg):\n",
    "            y += self._pars[i]*x**i\n",
    "        return y\n",
    "    \n",
    "    def __call__(self, x):\n",
    "        return self.execute(x)\n",
    "    \n",
    "    @property\n",
    "    def parameters(self):\n",
    "        return self._parameters(self, p)\n",
    "    \n",
    "    #@parameters.setter\n",
    "    #def parameters(self)"
   ]
  },
  {
   "cell_type": "code",
   "execution_count": 53,
   "metadata": {},
   "outputs": [],
   "source": [
    "P1 = Polynomial(1)"
   ]
  },
  {
   "cell_type": "code",
   "execution_count": 57,
   "metadata": {},
   "outputs": [
    {
     "name": "stdout",
     "output_type": "stream",
     "text": [
      "Hai deciso di cambiare i parametri. I vecchi parametri erano [3, 1]\n",
      "I nuovi parametri sono [3, 1]\n",
      "3 x^{ 0 }\n",
      "1 x^{ 1 }\n"
     ]
    }
   ],
   "source": [
    "P1.set_parameters([3,1])\n",
    "\n",
    "X = np.linspace(0,10,100)\n",
    "\n",
    "P1.show_poly()\n"
   ]
  },
  {
   "cell_type": "markdown",
   "metadata": {},
   "source": [
    "### 1.8 - NumPy"
   ]
  },
  {
   "cell_type": "code",
   "execution_count": 58,
   "metadata": {},
   "outputs": [],
   "source": [
    "N = 10"
   ]
  },
  {
   "cell_type": "code",
   "execution_count": 103,
   "metadata": {},
   "outputs": [],
   "source": [
    "v = np.float64(np.random.rand(N))\n",
    "\n",
    "A = np.random.rand(N,N)\n",
    "B = np.random.rand(N,N)"
   ]
  },
  {
   "cell_type": "code",
   "execution_count": 110,
   "metadata": {},
   "outputs": [],
   "source": [
    "@jit(nopython=True)\n",
    "\n",
    "def dot_prod(A, B):\n",
    "    \n",
    "    dim1 = A.shape[0]\n",
    "    dim2 = B.shape[1]\n",
    "    C = np.zeros((dim1, dim2))\n",
    "    \n",
    "    for i in range(dim1):\n",
    "        for j in range(dim2):\n",
    "            somma = 0;\n",
    "            for k in range(dim2):\n",
    "                somma += A[i][k] * B[k][j]\n",
    "            C[i][j] = somma\n",
    "            \n",
    "    return C"
   ]
  },
  {
   "cell_type": "code",
   "execution_count": 111,
   "metadata": {},
   "outputs": [
    {
     "name": "stdout",
     "output_type": "stream",
     "text": [
      "CPU times: user 4 µs, sys: 1 µs, total: 5 µs\n",
      "Wall time: 7.15 µs\n"
     ]
    },
    {
     "data": {
      "text/plain": [
       "array([[2.08244398, 2.69672348, 2.83905723, 3.16989962, 2.34601118,\n",
       "        2.87057123, 2.17761526, 2.65591224, 2.87587971, 2.11984229],\n",
       "       [2.08213087, 2.32799434, 1.95693779, 2.97733417, 1.18930078,\n",
       "        1.82470632, 1.81408493, 2.28541302, 2.63655385, 2.50271464],\n",
       "       [2.05053048, 1.86515174, 2.33241442, 2.69824861, 1.40950924,\n",
       "        2.22593509, 1.42734389, 2.35175354, 2.49951817, 1.93721947],\n",
       "       [1.84855864, 3.29820186, 2.81889187, 4.01796462, 1.98826479,\n",
       "        3.04014798, 2.00848793, 2.95996215, 3.54750563, 3.14411291],\n",
       "       [2.50414502, 3.75409881, 2.89202864, 4.10301663, 2.46753501,\n",
       "        3.12508446, 2.28992554, 3.40336643, 3.55593448, 3.29441274],\n",
       "       [2.44404694, 2.2241937 , 2.51866957, 2.691555  , 2.12520874,\n",
       "        2.62617868, 1.86316756, 2.75040022, 2.5876973 , 1.8804525 ],\n",
       "       [2.3517115 , 3.05736429, 2.66793331, 3.75440891, 1.98749782,\n",
       "        2.7805638 , 2.12869679, 3.14595218, 3.26850824, 2.84687142],\n",
       "       [2.2265998 , 3.70749506, 2.63339577, 3.77379903, 2.70363392,\n",
       "        3.15742713, 2.26494407, 3.39622298, 3.23901997, 2.99411027],\n",
       "       [2.51409707, 2.64644572, 2.46093224, 3.06776423, 1.99117081,\n",
       "        2.52295974, 1.99360273, 3.1860265 , 2.89520099, 2.40614332],\n",
       "       [2.49789104, 2.93400505, 2.66207793, 3.33635927, 2.54725741,\n",
       "        3.15833376, 2.05544273, 3.27029957, 2.92445676, 2.29134159]])"
      ]
     },
     "execution_count": 111,
     "metadata": {},
     "output_type": "execute_result"
    }
   ],
   "source": [
    "%time\n",
    "\n",
    "C = dot_prod(A,B)\n",
    "\n",
    "C"
   ]
  },
  {
   "cell_type": "code",
   "execution_count": 112,
   "metadata": {},
   "outputs": [
    {
     "name": "stdout",
     "output_type": "stream",
     "text": [
      "CPU times: user 5 µs, sys: 0 ns, total: 5 µs\n",
      "Wall time: 10 µs\n"
     ]
    },
    {
     "data": {
      "text/plain": [
       "array([[2.08244398, 2.69672348, 2.83905723, 3.16989962, 2.34601118,\n",
       "        2.87057123, 2.17761526, 2.65591224, 2.87587971, 2.11984229],\n",
       "       [2.08213087, 2.32799434, 1.95693779, 2.97733417, 1.18930078,\n",
       "        1.82470632, 1.81408493, 2.28541302, 2.63655385, 2.50271464],\n",
       "       [2.05053048, 1.86515174, 2.33241442, 2.69824861, 1.40950924,\n",
       "        2.22593509, 1.42734389, 2.35175354, 2.49951817, 1.93721947],\n",
       "       [1.84855864, 3.29820186, 2.81889187, 4.01796462, 1.98826479,\n",
       "        3.04014798, 2.00848793, 2.95996215, 3.54750563, 3.14411291],\n",
       "       [2.50414502, 3.75409881, 2.89202864, 4.10301663, 2.46753501,\n",
       "        3.12508446, 2.28992554, 3.40336643, 3.55593448, 3.29441274],\n",
       "       [2.44404694, 2.2241937 , 2.51866957, 2.691555  , 2.12520874,\n",
       "        2.62617868, 1.86316756, 2.75040022, 2.5876973 , 1.8804525 ],\n",
       "       [2.3517115 , 3.05736429, 2.66793331, 3.75440891, 1.98749782,\n",
       "        2.7805638 , 2.12869679, 3.14595218, 3.26850824, 2.84687142],\n",
       "       [2.2265998 , 3.70749506, 2.63339577, 3.77379903, 2.70363392,\n",
       "        3.15742713, 2.26494407, 3.39622298, 3.23901997, 2.99411027],\n",
       "       [2.51409707, 2.64644572, 2.46093224, 3.06776423, 1.99117081,\n",
       "        2.52295974, 1.99360273, 3.1860265 , 2.89520099, 2.40614332],\n",
       "       [2.49789104, 2.93400505, 2.66207793, 3.33635927, 2.54725741,\n",
       "        3.15833376, 2.05544273, 3.27029957, 2.92445676, 2.29134159]])"
      ]
     },
     "execution_count": 112,
     "metadata": {},
     "output_type": "execute_result"
    }
   ],
   "source": [
    "%time\n",
    "\n",
    "C = np.dot(A,B)\n",
    "\n",
    "C"
   ]
  },
  {
   "cell_type": "markdown",
   "metadata": {},
   "source": [
    "### 1.9 - Matplotlib"
   ]
  },
  {
   "cell_type": "code",
   "execution_count": 85,
   "metadata": {},
   "outputs": [],
   "source": [
    "x_9 = np.linspace(0,5,100)"
   ]
  },
  {
   "cell_type": "code",
   "execution_count": 87,
   "metadata": {},
   "outputs": [],
   "source": [
    "y_9 = np.exp(-x_9)*np.cos(2*np.pi*x_9)"
   ]
  },
  {
   "cell_type": "code",
   "execution_count": 115,
   "metadata": {},
   "outputs": [
    {
     "data": {
      "image/png": "[encoded data removed]",
      "text/plain": [
       "<Figure size 1080x432 with 1 Axes>"
      ]
     },
     "metadata": {},
     "output_type": "display_data"
    }
   ],
   "source": [
    "plt.figure(figsize=(15,6))\n",
    "plt.plot(x_9, y_9, linewidth=4, alpha=0.6, label='f(x)')\n",
    "plt.xlabel('x')\n",
    "plt.ylabel('y')\n",
    "plt.legend()\n",
    "plt.title(r'$e^{-x}+\\cos{2\\pi x}$')\n",
    "plt.show()"
   ]
  },
  {
   "cell_type": "markdown",
   "metadata": {},
   "source": [
    "### 1.10 - Pandas"
   ]
  },
  {
   "cell_type": "code",
   "execution_count": 118,
   "metadata": {},
   "outputs": [
    {
     "name": "stdout",
     "output_type": "stream",
     "text": [
      "0    1.0\n",
      "1    3.0\n",
      "2    5.0\n",
      "3    NaN\n",
      "4    6.0\n",
      "5    8.0\n",
      "dtype: float64\n"
     ]
    }
   ],
   "source": [
    "s = pd.Series([1, 3, 5, np.nan, 6, 8])\n",
    "print(s)"
   ]
  },
  {
   "cell_type": "code",
   "execution_count": 119,
   "metadata": {},
   "outputs": [
    {
     "name": "stdout",
     "output_type": "stream",
     "text": [
      "DatetimeIndex(['2013-01-01', '2013-01-02', '2013-01-03', '2013-01-04',\n",
      "               '2013-01-05', '2013-01-06'],\n",
      "              dtype='datetime64[ns]', freq='D')\n",
      "                   A         B         C         D\n",
      "2013-01-01  0.522920  0.513201 -0.531867 -0.649803\n",
      "2013-01-02  0.133859 -1.011452 -1.897845 -0.131419\n",
      "2013-01-03 -0.143407 -0.453143 -0.320289  0.000895\n",
      "2013-01-04  0.759268 -1.209735  0.093859  0.168948\n",
      "2013-01-05  0.431078  0.999044  0.466589  2.730113\n",
      "2013-01-06  0.924871 -1.564521 -2.082367 -1.155516\n"
     ]
    }
   ],
   "source": [
    "dates = pd.date_range('20130101', periods=6)\n",
    "print(dates)\n",
    "\n",
    "df = pd.DataFrame(np.random.randn(6, 4), index=dates, columns=list('ABCD'))\n",
    "\n",
    "print(df)"
   ]
  },
  {
   "cell_type": "code",
   "execution_count": 121,
   "metadata": {},
   "outputs": [],
   "source": [
    "url = 'http://archive.ics.uci.edu/ml/machine-learning-databases/auto-mpg/auto-mpg.data'\n",
    "column_names = ['MPG', 'Cylinders', 'Displacement', 'Horsepower', 'Weight',\n",
    "                'Acceleration', 'Model Year', 'Origin']\n",
    "\n",
    "raw_dataset = pd.read_csv(url, names=column_names,\n",
    "                        na_values='?', comment='\\t',\n",
    "                        sep=' ', skipinitialspace=True)"
   ]
  },
  {
   "cell_type": "code",
   "execution_count": 124,
   "metadata": {},
   "outputs": [
    {
     "data": {
      "text/html": [
       "<div>\n",
       "<style scoped>\n",
       "    .dataframe tbody tr th:only-of-type {\n",
       "        vertical-align: middle;\n",
       "    }\n",
       "\n",
       "    .dataframe tbody tr th {\n",
       "        vertical-align: top;\n",
       "    }\n",
       "\n",
       "    .dataframe thead th {\n",
       "        text-align: right;\n",
       "    }\n",
       "</style>\n",
       "<table border=\"1\" class=\"dataframe\">\n",
       "  <thead>\n",
       "    <tr style=\"text-align: right;\">\n",
       "      <th></th>\n",
       "      <th>MPG</th>\n",
       "      <th>Cylinders</th>\n",
       "      <th>Displacement</th>\n",
       "      <th>Horsepower</th>\n",
       "      <th>Weight</th>\n",
       "      <th>Acceleration</th>\n",
       "      <th>Model Year</th>\n",
       "      <th>Origin</th>\n",
       "    </tr>\n",
       "  </thead>\n",
       "  <tbody>\n",
       "    <tr>\n",
       "      <th>0</th>\n",
       "      <td>18.0</td>\n",
       "      <td>8</td>\n",
       "      <td>307.0</td>\n",
       "      <td>130.0</td>\n",
       "      <td>3504.0</td>\n",
       "      <td>12.0</td>\n",
       "      <td>70</td>\n",
       "      <td>1</td>\n",
       "    </tr>\n",
       "    <tr>\n",
       "      <th>1</th>\n",
       "      <td>15.0</td>\n",
       "      <td>8</td>\n",
       "      <td>350.0</td>\n",
       "      <td>165.0</td>\n",
       "      <td>3693.0</td>\n",
       "      <td>11.5</td>\n",
       "      <td>70</td>\n",
       "      <td>1</td>\n",
       "    </tr>\n",
       "    <tr>\n",
       "      <th>2</th>\n",
       "      <td>18.0</td>\n",
       "      <td>8</td>\n",
       "      <td>318.0</td>\n",
       "      <td>150.0</td>\n",
       "      <td>3436.0</td>\n",
       "      <td>11.0</td>\n",
       "      <td>70</td>\n",
       "      <td>1</td>\n",
       "    </tr>\n",
       "    <tr>\n",
       "      <th>3</th>\n",
       "      <td>16.0</td>\n",
       "      <td>8</td>\n",
       "      <td>304.0</td>\n",
       "      <td>150.0</td>\n",
       "      <td>3433.0</td>\n",
       "      <td>12.0</td>\n",
       "      <td>70</td>\n",
       "      <td>1</td>\n",
       "    </tr>\n",
       "    <tr>\n",
       "      <th>4</th>\n",
       "      <td>17.0</td>\n",
       "      <td>8</td>\n",
       "      <td>302.0</td>\n",
       "      <td>140.0</td>\n",
       "      <td>3449.0</td>\n",
       "      <td>10.5</td>\n",
       "      <td>70</td>\n",
       "      <td>1</td>\n",
       "    </tr>\n",
       "    <tr>\n",
       "      <th>5</th>\n",
       "      <td>15.0</td>\n",
       "      <td>8</td>\n",
       "      <td>429.0</td>\n",
       "      <td>198.0</td>\n",
       "      <td>4341.0</td>\n",
       "      <td>10.0</td>\n",
       "      <td>70</td>\n",
       "      <td>1</td>\n",
       "    </tr>\n",
       "    <tr>\n",
       "      <th>6</th>\n",
       "      <td>14.0</td>\n",
       "      <td>8</td>\n",
       "      <td>454.0</td>\n",
       "      <td>220.0</td>\n",
       "      <td>4354.0</td>\n",
       "      <td>9.0</td>\n",
       "      <td>70</td>\n",
       "      <td>1</td>\n",
       "    </tr>\n",
       "    <tr>\n",
       "      <th>7</th>\n",
       "      <td>14.0</td>\n",
       "      <td>8</td>\n",
       "      <td>440.0</td>\n",
       "      <td>215.0</td>\n",
       "      <td>4312.0</td>\n",
       "      <td>8.5</td>\n",
       "      <td>70</td>\n",
       "      <td>1</td>\n",
       "    </tr>\n",
       "    <tr>\n",
       "      <th>8</th>\n",
       "      <td>14.0</td>\n",
       "      <td>8</td>\n",
       "      <td>455.0</td>\n",
       "      <td>225.0</td>\n",
       "      <td>4425.0</td>\n",
       "      <td>10.0</td>\n",
       "      <td>70</td>\n",
       "      <td>1</td>\n",
       "    </tr>\n",
       "    <tr>\n",
       "      <th>9</th>\n",
       "      <td>15.0</td>\n",
       "      <td>8</td>\n",
       "      <td>390.0</td>\n",
       "      <td>190.0</td>\n",
       "      <td>3850.0</td>\n",
       "      <td>8.5</td>\n",
       "      <td>70</td>\n",
       "      <td>1</td>\n",
       "    </tr>\n",
       "  </tbody>\n",
       "</table>\n",
       "</div>"
      ],
      "text/plain": [
       "    MPG  Cylinders  Displacement  Horsepower  Weight  Acceleration  \\\n",
       "0  18.0          8         307.0       130.0  3504.0          12.0   \n",
       "1  15.0          8         350.0       165.0  3693.0          11.5   \n",
       "2  18.0          8         318.0       150.0  3436.0          11.0   \n",
       "3  16.0          8         304.0       150.0  3433.0          12.0   \n",
       "4  17.0          8         302.0       140.0  3449.0          10.5   \n",
       "5  15.0          8         429.0       198.0  4341.0          10.0   \n",
       "6  14.0          8         454.0       220.0  4354.0           9.0   \n",
       "7  14.0          8         440.0       215.0  4312.0           8.5   \n",
       "8  14.0          8         455.0       225.0  4425.0          10.0   \n",
       "9  15.0          8         390.0       190.0  3850.0           8.5   \n",
       "\n",
       "   Model Year  Origin  \n",
       "0          70       1  \n",
       "1          70       1  \n",
       "2          70       1  \n",
       "3          70       1  \n",
       "4          70       1  \n",
       "5          70       1  \n",
       "6          70       1  \n",
       "7          70       1  \n",
       "8          70       1  \n",
       "9          70       1  "
      ]
     },
     "execution_count": 124,
     "metadata": {},
     "output_type": "execute_result"
    }
   ],
   "source": [
    "raw_dataset.head(10)"
   ]
  },
  {
   "cell_type": "code",
   "execution_count": 130,
   "metadata": {},
   "outputs": [
    {
     "data": {
      "text/plain": [
       "MPG               23.514573\n",
       "Cylinders          5.454774\n",
       "Displacement     193.425879\n",
       "Horsepower       104.469388\n",
       "Weight          2970.424623\n",
       "Acceleration      15.568090\n",
       "Model Year        76.010050\n",
       "Origin             1.572864\n",
       "dtype: float64"
      ]
     },
     "execution_count": 130,
     "metadata": {},
     "output_type": "execute_result"
    }
   ],
   "source": [
    "raw_dataset.mean()"
   ]
  },
  {
   "cell_type": "code",
   "execution_count": 135,
   "metadata": {},
   "outputs": [
    {
     "data": {
      "text/html": [
       "<div>\n",
       "<style scoped>\n",
       "    .dataframe tbody tr th:only-of-type {\n",
       "        vertical-align: middle;\n",
       "    }\n",
       "\n",
       "    .dataframe tbody tr th {\n",
       "        vertical-align: top;\n",
       "    }\n",
       "\n",
       "    .dataframe thead th {\n",
       "        text-align: right;\n",
       "    }\n",
       "</style>\n",
       "<table border=\"1\" class=\"dataframe\">\n",
       "  <thead>\n",
       "    <tr style=\"text-align: right;\">\n",
       "      <th></th>\n",
       "      <th>MPG</th>\n",
       "      <th>Cylinders</th>\n",
       "      <th>Displacement</th>\n",
       "      <th>Horsepower</th>\n",
       "      <th>Weight</th>\n",
       "      <th>Acceleration</th>\n",
       "      <th>Model Year</th>\n",
       "      <th>Origin</th>\n",
       "    </tr>\n",
       "  </thead>\n",
       "  <tbody>\n",
       "    <tr>\n",
       "      <th>71</th>\n",
       "      <td>19.0</td>\n",
       "      <td>3</td>\n",
       "      <td>70.0</td>\n",
       "      <td>97.0</td>\n",
       "      <td>2330.0</td>\n",
       "      <td>13.5</td>\n",
       "      <td>72</td>\n",
       "      <td>3</td>\n",
       "    </tr>\n",
       "    <tr>\n",
       "      <th>111</th>\n",
       "      <td>18.0</td>\n",
       "      <td>3</td>\n",
       "      <td>70.0</td>\n",
       "      <td>90.0</td>\n",
       "      <td>2124.0</td>\n",
       "      <td>13.5</td>\n",
       "      <td>73</td>\n",
       "      <td>3</td>\n",
       "    </tr>\n",
       "    <tr>\n",
       "      <th>243</th>\n",
       "      <td>21.5</td>\n",
       "      <td>3</td>\n",
       "      <td>80.0</td>\n",
       "      <td>110.0</td>\n",
       "      <td>2720.0</td>\n",
       "      <td>13.5</td>\n",
       "      <td>77</td>\n",
       "      <td>3</td>\n",
       "    </tr>\n",
       "    <tr>\n",
       "      <th>334</th>\n",
       "      <td>23.7</td>\n",
       "      <td>3</td>\n",
       "      <td>70.0</td>\n",
       "      <td>100.0</td>\n",
       "      <td>2420.0</td>\n",
       "      <td>12.5</td>\n",
       "      <td>80</td>\n",
       "      <td>3</td>\n",
       "    </tr>\n",
       "  </tbody>\n",
       "</table>\n",
       "</div>"
      ],
      "text/plain": [
       "      MPG  Cylinders  Displacement  Horsepower  Weight  Acceleration  \\\n",
       "71   19.0          3          70.0        97.0  2330.0          13.5   \n",
       "111  18.0          3          70.0        90.0  2124.0          13.5   \n",
       "243  21.5          3          80.0       110.0  2720.0          13.5   \n",
       "334  23.7          3          70.0       100.0  2420.0          12.5   \n",
       "\n",
       "     Model Year  Origin  \n",
       "71           72       3  \n",
       "111          73       3  \n",
       "243          77       3  \n",
       "334          80       3  "
      ]
     },
     "execution_count": 135,
     "metadata": {},
     "output_type": "execute_result"
    }
   ],
   "source": [
    "cylindthree = raw_dataset[raw_dataset['Cylinders']==3]\n",
    "cylindthree"
   ]
  },
  {
   "cell_type": "code",
   "execution_count": null,
   "metadata": {},
   "outputs": [],
   "source": []
  }
 ],
 "metadata": {
  "kernelspec": {
   "display_name": "Python 3 (ipykernel)",
   "language": "python",
   "name": "python3"
  },
  "language_info": {
   "codemirror_mode": {
    "name": "ipython",
    "version": 3
   },
   "file_extension": ".py",
   "mimetype": "text/x-python",
   "name": "python",
   "nbconvert_exporter": "python",
   "pygments_lexer": "ipython3",
   "version": "3.8.5"
  }
 },
 "nbformat": 4,
 "nbformat_minor": 5
}
