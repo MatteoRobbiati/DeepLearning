{
 "cells": [
  {
   "cell_type": "code",
   "execution_count": 2,
   "id": "dadcd63c",
   "metadata": {},
   "outputs": [],
   "source": [
    "import argparse"
   ]
  },
  {
   "cell_type": "code",
   "execution_count": null,
   "id": "86369c9a",
   "metadata": {},
   "outputs": [],
   "source": [
    "# forse valido solo con VScode\n",
    "\n",
    "def main(epochs):\n",
    "    print(f\"Epochs = {epochs}\")\n",
    "\n",
    "if __name__ == \"__main__\":\n",
    "    parser = argparse.ArgumentParser(description=\"Performs MLP classification using keras\")\n",
    "    # diverse proprieta' per diverse opzioni da command line\n",
    "    parser.add_argument(\"--epochs\", type=int, default=5, help=\" Number of epochs\")\n",
    "    # per usarlo\n",
    "    args = parser.parse_args()\n",
    "    main(args.epochs)"
   ]
  }
 ],
 "metadata": {
  "kernelspec": {
   "display_name": "Python 3 (ipykernel)",
   "language": "python",
   "name": "python3"
  },
  "language_info": {
   "codemirror_mode": {
    "name": "ipython",
    "version": 3
   },
   "file_extension": ".py",
   "mimetype": "text/x-python",
   "name": "python",
   "nbconvert_exporter": "python",
   "pygments_lexer": "ipython3",
   "version": "3.9.7"
  }
 },
 "nbformat": 4,
 "nbformat_minor": 5
}
